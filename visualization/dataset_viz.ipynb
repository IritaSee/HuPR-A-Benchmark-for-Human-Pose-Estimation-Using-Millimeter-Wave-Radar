{
 "cells": [
  {
   "cell_type": "code",
   "execution_count": 11,
   "metadata": {},
   "outputs": [],
   "source": [
    "import sys\n",
    "sys.path.append(\"../data/\")\n",
    "sys.path.append(\"../misc/\")\n",
    "sys.path.append(\"../models/\")\n",
    "sys.path.append(\"../preprocessing/\")\n",
    "sys.path.append(\"../tools/\")\n",
    "\n",
    "\n",
    "import json\n",
    "import random\n",
    "import numpy as np\n",
    "from PIL import Image\n",
    "from plot_utils import PlotMaps, PlotHeatmaps"
   ]
  },
  {
   "cell_type": "code",
<<<<<<< HEAD
   "execution_count": 12,
   "metadata": {},
   "outputs": [],
   "source": [
    "data_dir = f'../data/HuPR/single_{random.randint(1, 10)}'\n",
    "\n",
    "hori_bin = data_dir + '/hori/adc_data.bin'\n",
    "vert_bin = data_dir + '/vert/adc_data.bin'\n",
    "\n",
    "# open the binary file\n",
    "hori_data = np.fromfile(hori_bin, dtype=np.int16)\n",
    "vert_data = np.fromfile(vert_bin, dtype=np.int16)"
   ]
  },
  {
   "cell_type": "code",
   "execution_count": 17,
=======
   "execution_count": 32,
>>>>>>> bfb4ea4 (able to preprocess data i think)
   "metadata": {},
   "outputs": [
    {
     "name": "stdout",
     "output_type": "stream",
     "text": [
<<<<<<< HEAD
      "[24 62 61 ... 62 53 60] (235929600,)\n",
      "[ 32   4 -93 ... 177  -8 134] (235929600,)\n"
=======
      "Shape of radar data: (4, 115200, 256)\n",
      "Shape of radar data: (4, 115200, 256)\n"
>>>>>>> bfb4ea4 (able to preprocess data i think)
     ]
    }
   ],
   "source": [
<<<<<<< HEAD
    "print(hori_data, hori_data.shape)\n",
    "print(vert_data, vert_data.shape)"
=======
    "data_dir = f'../data/HuPR/single_{random.randint(1, 10)}'\n",
    "\n",
    "hori_bin = data_dir + '/hori/adc_data.bin'\n",
    "vert_bin = data_dir + '/vert/adc_data.bin'\n",
    "\n",
    "# variables\n",
    "numLanes = 2\n",
    "numRX = 4\n",
    "numADCSamples = 256\n",
    "adcRatio = 4\n",
    "\n",
    "# open the binary file\n",
    "def process_data(bin_file, num_lanes, numRX, numADCSamples, adcRatio):\n",
    "    adcData = np.fromfile(bin_file, dtype=np.int16)\n",
    "    fileSize = adcData.shape[0]\n",
    "    adcData = adcData.reshape(-1, numLanes*2).transpose()\n",
    "    # # for complex data\n",
    "    fileSize = int(fileSize/2)\n",
    "    LVDS = np.zeros((2, fileSize))  # seperate each LVDS lane into rows\n",
    "\n",
    "    temp = np.empty((adcData[0].size + adcData[1].size), dtype=adcData[0].dtype)\n",
    "    temp[0::2] = adcData[0]\n",
    "    temp[1::2] = adcData[1]\n",
    "    LVDS[0] = temp\n",
    "    temp = np.empty((adcData[2].size + adcData[3].size), dtype=adcData[2].dtype)\n",
    "    temp[0::2] = adcData[2]\n",
    "    temp[1::2] = adcData[3]\n",
    "    LVDS[1] = temp\n",
    "\n",
    "    adcData = np.zeros((numRX, int(fileSize/numRX)), dtype = 'complex_')\n",
    "    iter = 0\n",
    "    for i in range(0, fileSize, numADCSamples * 4):\n",
    "        adcData[0][iter:iter+numADCSamples] = LVDS[0][i:i+numADCSamples] + np.sqrt(-1+0j)*LVDS[1][i:i+numADCSamples]\n",
    "        adcData[1][iter:iter+numADCSamples] = LVDS[0][i+numADCSamples:i+numADCSamples*2] + np.sqrt(-1+0j)*LVDS[1][i+numADCSamples:i+numADCSamples*2]\n",
    "        adcData[2][iter:iter+numADCSamples] = LVDS[0][i+numADCSamples*2:i+numADCSamples*3] + np.sqrt(-1+0j)*LVDS[1][i+numADCSamples*2:i+numADCSamples*3]\n",
    "        adcData[3][iter:iter+numADCSamples] = LVDS[0][i+numADCSamples*3:i+numADCSamples*4] + np.sqrt(-1+0j)*LVDS[1][i+numADCSamples*3:i+numADCSamples*4]\n",
    "        iter = iter + numADCSamples\n",
    "    \n",
    "    #correct reshape\n",
    "    adcDataReshape = adcData.reshape(numRX, -1, numADCSamples)\n",
    "    print('Shape of radar data:', adcDataReshape.shape)\n",
    "    return adcDataReshape\n",
    "\n",
    "horiData = process_data(hori_bin, numLanes, numRX, numADCSamples, adcRatio)\n",
    "vertData = process_data(vert_bin, numLanes, numRX, numADCSamples, adcRatio)"
>>>>>>> bfb4ea4 (able to preprocess data i think)
   ]
  },
  {
   "cell_type": "code",
<<<<<<< HEAD
   "execution_count": 15,
   "metadata": {},
   "outputs": [
    {
     "data": {
      "text/plain": [
       "array([ 32,   4, -93, ..., 177,  -8, 134], dtype=int16)"
      ]
     },
     "execution_count": 15,
     "metadata": {},
     "output_type": "execute_result"
    }
   ],
   "source": [
    "vert_data"
=======
   "execution_count": 34,
   "metadata": {},
   "outputs": [
    {
     "name": "stdout",
     "output_type": "stream",
     "text": [
      "[[[ -63. -88.j  208. +68.j -106.-179.j ...  284. -70.j  -57. +96.j\n",
      "   -218.+156.j]\n",
      "  [-109.-209.j    6. -13.j -103. -71.j ...  -16.-107.j  249. +64.j\n",
      "     26.+258.j]\n",
      "  [ 133. +31.j   58.-167.j   -4. +71.j ...  207. -55.j   64.+124.j\n",
      "   -120. +85.j]\n",
      "  ...\n",
      "  [  96.-187.j  277.+168.j -241. -94.j ...  159.-119.j  -66. +98.j\n",
      "    -39.+130.j]\n",
      "  [ -55.-207.j  104. +25.j -158. -30.j ...  -77.+109.j   76. +47.j\n",
      "     24. +96.j]\n",
      "  [ 216.+117.j   79.-152.j -110. +94.j ...  -23. +66.j   -9. +80.j\n",
      "    -12. -97.j]]\n",
      "\n",
      " [[-160. +40.j  125.+179.j -159. -71.j ...  363.-116.j  159.+147.j\n",
      "     37. +82.j]\n",
      "  [ 105. +85.j   38.+277.j  203.+226.j ...   28.-207.j  170.-178.j\n",
      "    -33. +93.j]\n",
      "  [-151.+325.j -159.-217.j -425. +57.j ...  164.-220.j  -74.+110.j\n",
      "    -95.+158.j]\n",
      "  ...\n",
      "  [-160.  +1.j  128.+252.j -193. +34.j ...  173. -92.j  190. +39.j\n",
      "    146. -31.j]\n",
      "  [ 243.+229.j   87.+258.j   79.+314.j ...   39.  +7.j    9.-153.j\n",
      "   -120. -98.j]\n",
      "  [-102.+215.j -282. -60.j -439.+122.j ...  -22. -68.j -117. +45.j\n",
      "   -114. -21.j]]\n",
      "\n",
      " [[ -75.-140.j   -9.+157.j  -41. -14.j ...   11.-161.j   82.+207.j\n",
      "   -162. -49.j]\n",
      "  [ 195.-111.j   66.-306.j   45. +16.j ...   38.-225.j  123.  -7.j\n",
      "     66. +97.j]\n",
      "  [ 218.+205.j  204.-119.j  106. +73.j ...  152. -96.j  -22.+228.j\n",
      "    -43.+131.j]\n",
      "  ...\n",
      "  [-122.-129.j   41.+264.j  -98. -25.j ... -205. -85.j   67.+105.j\n",
      "    -39.-158.j]\n",
      "  [ 374.-122.j   60.-226.j  -31.+125.j ...  -11.  -2.j   35. +45.j\n",
      "    -15.-107.j]\n",
      "  [ 221. +87.j  211.+194.j  192. +27.j ...   70. +18.j  -69.+182.j\n",
      "    -23. +86.j]]\n",
      "\n",
      " [[ 212.+379.j  142.+390.j  163.+427.j ...  187.-225.j  134.+156.j\n",
      "   -191.+148.j]\n",
      "  [ 158.+265.j -209. -99.j -220.+245.j ... -320.-254.j   16. +41.j\n",
      "    -24. -25.j]\n",
      "  [-291.-305.j -463.-107.j   52.-180.j ...  169.-107.j  144.+142.j\n",
      "   -105.+110.j]\n",
      "  ...\n",
      "  [ 285.+589.j  260.+429.j    3.+510.j ...  -72. -60.j   91. +71.j\n",
      "   -117. -37.j]\n",
      "  [ 243. +91.j -152.+155.j -224.+313.j ... -283. -33.j  -95. +64.j\n",
      "   -206.-117.j]\n",
      "  [-331.-310.j -219. +83.j -118.-199.j ...   60. -32.j   98.+139.j\n",
      "   -126. +81.j]]]\n"
     ]
    }
   ],
   "source": [
    "print(horiData)"
>>>>>>> bfb4ea4 (able to preprocess data i think)
   ]
  },
  {
   "cell_type": "code",
<<<<<<< HEAD
   "execution_count": null,
   "metadata": {},
   "outputs": [],
   "source": []
=======
   "execution_count": 35,
   "metadata": {},
   "outputs": [
    {
     "name": "stdout",
     "output_type": "stream",
     "text": [
      "[[[  65.  -7.j    4.-111.j  130. -94.j ...  -39. +48.j  -14. -34.j\n",
      "    -51. +19.j]\n",
      "  [-149. +67.j   37. -99.j -114.-162.j ...  -42. +17.j   69.+153.j\n",
      "     29. +72.j]\n",
      "  [   5.+268.j -118.-156.j   66. -33.j ...  -58. -49.j   23. -49.j\n",
      "    -49.+125.j]\n",
      "  ...\n",
      "  [ 100. -92.j   97. -36.j  153. -72.j ...   10. -27.j  -17. +17.j\n",
      "      4. +79.j]\n",
      "  [-186.-170.j  200.-184.j   25. +21.j ...   35. +68.j   16.+222.j\n",
      "    -48. +14.j]\n",
      "  [ 103.+117.j   69.-151.j   61.+163.j ...  -73. -24.j   72.  -7.j\n",
      "    -98. +57.j]]\n",
      "\n",
      " [[-224. +92.j -140. +40.j -167.-203.j ...   37. +87.j   31. +64.j\n",
      "     44. +83.j]\n",
      "  [  -6.+198.j -151. +15.j  -99.+200.j ...  -49. -68.j  113.-115.j\n",
      "     39. -64.j]\n",
      "  [-166.  -7.j -219. -52.j  -66.-182.j ...   75. -49.j  -20.  +4.j\n",
      "     84. +29.j]\n",
      "  ...\n",
      "  [-257.  +7.j  -71. -61.j -179.-109.j ...  115. +55.j   61.+132.j\n",
      "     57.+101.j]\n",
      "  [-175.+108.j -157. -98.j   86.+189.j ...  -58. -80.j  121. -66.j\n",
      "     -6.-136.j]\n",
      "  [-193.-264.j  -44. -81.j   -3.  -9.j ...   91. -74.j   70. -12.j\n",
      "    -44. +57.j]]\n",
      "\n",
      " [[ -60.+230.j -133. +23.j  -66. +42.j ...  146.-191.j  192. -31.j\n",
      "    347. -98.j]\n",
      "  [ 133. +22.j  -19. -39.j  -14.-117.j ...  -58. +82.j   41.-110.j\n",
      "     15. +48.j]\n",
      "  [ -45.+239.j   14. -12.j  234. -95.j ...  -68. -12.j -138.+100.j\n",
      "    -35.+104.j]\n",
      "  ...\n",
      "  [-141. +82.j    7.  -5.j   21.+208.j ...  279.-172.j  174. -27.j\n",
      "    290. -62.j]\n",
      "  [ -97. +30.j  -37.-208.j  174.-249.j ... -109. +92.j   24. -96.j\n",
      "    -17. +29.j]\n",
      "  [-124. +76.j  243. -63.j  345. +71.j ...  -14. +67.j -135.+127.j\n",
      "   -222.+120.j]]\n",
      "\n",
      " [[ -28.+521.j -253.+234.j    6.+359.j ... -209. -74.j   21. -13.j\n",
      "    -29. -77.j]\n",
      "  [ -83.+260.j -163. +53.j -161. +30.j ...  -22.-142.j -114. -68.j\n",
      "    -38.-107.j]\n",
      "  [-134.-109.j -207.-196.j   85.-628.j ...  126. -30.j  145. -54.j\n",
      "    211.+105.j]\n",
      "  ...\n",
      "  [-181.+423.j -151.+239.j  112.+475.j ...  -78. -69.j  -45. +62.j\n",
      "   -100. -43.j]\n",
      "  [-221.+201.j  -91.-101.j  -92. +25.j ...  -35.-205.j -115. -66.j\n",
      "    -65. -61.j]\n",
      "  [-298.-410.j   12.-303.j  255.-416.j ...  202. +32.j  123. -24.j\n",
      "    135.+107.j]]]\n"
     ]
    }
   ],
   "source": [
    "print(vertData)"
   ]
>>>>>>> bfb4ea4 (able to preprocess data i think)
  }
 ],
 "metadata": {
  "kernelspec": {
   "display_name": "p6-wave-37",
   "language": "python",
   "name": "python3"
  },
  "language_info": {
   "codemirror_mode": {
    "name": "ipython",
    "version": 3
   },
   "file_extension": ".py",
   "mimetype": "text/x-python",
   "name": "python",
   "nbconvert_exporter": "python",
   "pygments_lexer": "ipython3",
   "version": "3.7.17"
  }
 },
 "nbformat": 4,
 "nbformat_minor": 2
}
