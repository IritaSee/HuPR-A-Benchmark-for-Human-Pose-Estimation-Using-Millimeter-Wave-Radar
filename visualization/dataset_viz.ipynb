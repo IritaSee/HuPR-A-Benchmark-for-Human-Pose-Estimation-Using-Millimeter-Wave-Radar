{
 "cells": [
  {
   "cell_type": "code",
   "execution_count": 11,
   "metadata": {},
   "outputs": [],
   "source": [
    "import sys\n",
    "sys.path.append(\"../data/\")\n",
    "sys.path.append(\"../misc/\")\n",
    "sys.path.append(\"../models/\")\n",
    "sys.path.append(\"../preprocessing/\")\n",
    "sys.path.append(\"../tools/\")\n",
    "\n",
    "\n",
    "import json\n",
    "import random\n",
    "import numpy as np\n",
    "from PIL import Image\n",
    "from plot_utils import PlotMaps, PlotHeatmaps"
   ]
  },
  {
   "cell_type": "code",
   "execution_count": 12,
   "metadata": {},
   "outputs": [],
   "source": [
    "data_dir = f'../data/HuPR/single_{random.randint(1, 10)}'\n",
    "\n",
    "hori_bin = data_dir + '/hori/adc_data.bin'\n",
    "vert_bin = data_dir + '/vert/adc_data.bin'\n",
    "\n",
    "# open the binary file\n",
    "hori_data = np.fromfile(hori_bin, dtype=np.int16)\n",
    "vert_data = np.fromfile(vert_bin, dtype=np.int16)"
   ]
  },
  {
   "cell_type": "code",
   "execution_count": 17,
   "metadata": {},
   "outputs": [
    {
     "name": "stdout",
     "output_type": "stream",
     "text": [
      "[24 62 61 ... 62 53 60] (235929600,)\n",
      "[ 32   4 -93 ... 177  -8 134] (235929600,)\n"
     ]
    }
   ],
   "source": [
    "print(hori_data, hori_data.shape)\n",
    "print(vert_data, vert_data.shape)"
   ]
  },
  {
   "cell_type": "code",
   "execution_count": 15,
   "metadata": {},
   "outputs": [
    {
     "data": {
      "text/plain": [
       "array([ 32,   4, -93, ..., 177,  -8, 134], dtype=int16)"
      ]
     },
     "execution_count": 15,
     "metadata": {},
     "output_type": "execute_result"
    }
   ],
   "source": [
    "vert_data"
   ]
  },
  {
   "cell_type": "code",
   "execution_count": null,
   "metadata": {},
   "outputs": [],
   "source": []
  }
 ],
 "metadata": {
  "kernelspec": {
   "display_name": "p6-wave-37",
   "language": "python",
   "name": "python3"
  },
  "language_info": {
   "codemirror_mode": {
    "name": "ipython",
    "version": 3
   },
   "file_extension": ".py",
   "mimetype": "text/x-python",
   "name": "python",
   "nbconvert_exporter": "python",
   "pygments_lexer": "ipython3",
   "version": "3.7.17"
  }
 },
 "nbformat": 4,
 "nbformat_minor": 2
}
